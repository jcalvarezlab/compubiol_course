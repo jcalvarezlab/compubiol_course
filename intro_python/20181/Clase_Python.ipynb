{
 "cells": [
  {
   "cell_type": "markdown",
   "metadata": {},
   "source": [
    "# Introducción a la programación en Python\n",
    "by Javier Correa Alvarez, PhD <br>\n",
    "Fund. Biología Computacional BI436 <br>\n",
    "![title](pic1.png)"
   ]
  },
  {
   "cell_type": "markdown",
   "metadata": {},
   "source": [
    "## Contenido\n",
    "- [Introducción](#Introducción)\n",
    "- [¿Por qué Python?](#whypy)\n",
    "- ¿Cómo Instalarlo?\n",
    "- Hello World\n",
    "- Sintáxis de Python\n",
    "- Manupulando Strings y salidas de la consola (cap 2:25-37)\n",
    "- *Ejercicios 1*\n",
    "- Condicionales, listas y loops\n",
    "- Leyendo y escribiendo archivos\n",
    "- *Ejercicios 2*\n",
    "- Diccionarios y expresiones regulares\n",
    "- Biopython\n",
    "- *Ejercicios - Taller 3*"
   ]
  },
  {
   "cell_type": "markdown",
   "metadata": {},
   "source": [
    "## Introducción\n",
    "\n",
    "### ¿Por qué Python?\n",
    "\n",
    "1. Es un lenguaje de programación de alto nivel cuya filosofía hace hincapié en una sintaxis muy limpia y que favorezca un código legible. <br>\n",
    "2. Es administrado por la Python Software Foundation. Posee una licencia de código abierto, denominada Python Software Foundation License.<br>\n",
    "3. Si usted aprende al menos el 30% del lenguaje será más productivo y usted tomará el control de su investigación.<br>\n",
    "\n"
   ]
  },
  {
   "cell_type": "markdown",
   "metadata": {},
   "source": [
    "![gif_lang](PythonGIF.gif)"
   ]
  },
  {
   "cell_type": "markdown",
   "metadata": {},
   "source": [
    "### Rankings of Programming Language\n",
    "![rank](rank.png)"
   ]
  },
  {
   "cell_type": "markdown",
   "metadata": {},
   "source": [
    "### ¿Que atributos tiene python?\n",
    "\n",
    "- Interpretado e Interactivo\n",
    "- Fácil de aprender, programar y leer (menos bugs)\n",
    "- De muy alto nivel\n",
    "- Multiparadigma\n",
    "- Orientado a objetos\n",
    "- Libre y con licencia permisiva\n",
    "- Eficiente\n",
    "- Versátil y potente!\n",
    "- Con gran documentación\n",
    "- Y una gran comunidad de usuarios"
   ]
  },
  {
   "cell_type": "code",
   "execution_count": 1,
   "metadata": {},
   "outputs": [
    {
     "name": "stdout",
     "output_type": "stream",
     "text": [
      "The Zen of Python, by Tim Peters\n",
      "\n",
      "Beautiful is better than ugly.\n",
      "Explicit is better than implicit.\n",
      "Simple is better than complex.\n",
      "Complex is better than complicated.\n",
      "Flat is better than nested.\n",
      "Sparse is better than dense.\n",
      "Readability counts.\n",
      "Special cases aren't special enough to break the rules.\n",
      "Although practicality beats purity.\n",
      "Errors should never pass silently.\n",
      "Unless explicitly silenced.\n",
      "In the face of ambiguity, refuse the temptation to guess.\n",
      "There should be one-- and preferably only one --obvious way to do it.\n",
      "Although that way may not be obvious at first unless you're Dutch.\n",
      "Now is better than never.\n",
      "Although never is often better than *right* now.\n",
      "If the implementation is hard to explain, it's a bad idea.\n",
      "If the implementation is easy to explain, it may be a good idea.\n",
      "Namespaces are one honking great idea -- let's do more of those!\n"
     ]
    }
   ],
   "source": [
    "import this"
   ]
  },
  {
   "cell_type": "markdown",
   "metadata": {},
   "source": [
    "### ¿Cómo instalar Python?\n",
    "\n",
    "¿Cúal sistema operativo tienes?<br>\n",
    "![OS](OS.png)\n",
    "\n",
    "Para los dos primeros felicidades, **ya lo tienes instalado!!!**<br>\n",
    "\n",
    "Solo es abrir la terminal y digitar python + return. Obtendrás la versón de instalación y entrarás al programa.<br>"
   ]
  },
  {
   "cell_type": "code",
   "execution_count": null,
   "metadata": {},
   "outputs": [],
   "source": [
    "%%bash\n",
    "python"
   ]
  },
  {
   "cell_type": "markdown",
   "metadata": {},
   "source": [
    "### ¿Como podemos usar python?\n",
    "\n",
    "Consolas interactivas<br>\n",
    "Jupyter<br>\n",
    "Scripts<br>"
   ]
  }
 ],
 "metadata": {
  "kernelspec": {
   "display_name": "Bash",
   "language": "bash",
   "name": "bash"
  },
  "language_info": {
   "codemirror_mode": "shell",
   "file_extension": ".sh",
   "mimetype": "text/x-sh",
   "name": "bash"
  }
 },
 "nbformat": 4,
 "nbformat_minor": 2
}
